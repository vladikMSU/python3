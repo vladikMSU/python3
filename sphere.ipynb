{
 "cells": [
  {
   "cell_type": "code",
   "execution_count": 1,
   "metadata": {},
   "outputs": [],
   "source": [
    "import pandas as pd\n",
    "import numpy as np\n",
    "import matplotlib.pyplot as plt\n",
    "import seaborn as sb\n",
    "%matplotlib inline"
   ]
  },
  {
   "cell_type": "code",
   "execution_count": 2,
   "metadata": {},
   "outputs": [],
   "source": [
    "import warnings\n",
    "warnings.filterwarnings('ignore')"
   ]
  },
  {
   "cell_type": "code",
   "execution_count": 3,
   "metadata": {},
   "outputs": [],
   "source": [
    "plt.rcParams['figure.figsize'] = 10, 10"
   ]
  },
  {
   "cell_type": "code",
   "execution_count": 4,
   "metadata": {},
   "outputs": [
    {
     "data": {
      "text/html": [
       "<div>\n",
       "<style scoped>\n",
       "    .dataframe tbody tr th:only-of-type {\n",
       "        vertical-align: middle;\n",
       "    }\n",
       "\n",
       "    .dataframe tbody tr th {\n",
       "        vertical-align: top;\n",
       "    }\n",
       "\n",
       "    .dataframe thead th {\n",
       "        text-align: right;\n",
       "    }\n",
       "</style>\n",
       "<table border=\"1\" class=\"dataframe\">\n",
       "  <thead>\n",
       "    <tr style=\"text-align: right;\">\n",
       "      <th></th>\n",
       "      <th>address</th>\n",
       "      <th>price</th>\n",
       "      <th>rooms</th>\n",
       "      <th>type</th>\n",
       "      <th>square</th>\n",
       "      <th>floor</th>\n",
       "      <th>max_floor</th>\n",
       "      <th>nearest</th>\n",
       "      <th>repair</th>\n",
       "      <th>living_square</th>\n",
       "      <th>...</th>\n",
       "      <th>washer</th>\n",
       "      <th>fridge</th>\n",
       "      <th>children</th>\n",
       "      <th>parking</th>\n",
       "      <th>phone</th>\n",
       "      <th>television</th>\n",
       "      <th>pool</th>\n",
       "      <th>billiards</th>\n",
       "      <th>sauna</th>\n",
       "      <th>url</th>\n",
       "    </tr>\n",
       "  </thead>\n",
       "  <tbody>\n",
       "    <tr>\n",
       "      <th>0</th>\n",
       "      <td>г. Казань Гвардейская улица 48/2</td>\n",
       "      <td>800.0</td>\n",
       "      <td>1.0</td>\n",
       "      <td>студия</td>\n",
       "      <td>25.0</td>\n",
       "      <td>2.0</td>\n",
       "      <td>5.0</td>\n",
       "      <td>5000.0</td>\n",
       "      <td>NaN</td>\n",
       "      <td>NaN</td>\n",
       "      <td>...</td>\n",
       "      <td>NaN</td>\n",
       "      <td>NaN</td>\n",
       "      <td>NaN</td>\n",
       "      <td>NaN</td>\n",
       "      <td>NaN</td>\n",
       "      <td>NaN</td>\n",
       "      <td>NaN</td>\n",
       "      <td>NaN</td>\n",
       "      <td>NaN</td>\n",
       "      <td>https://tatarstan.move.ru/objects/sdaetsya_1-k...</td>\n",
       "    </tr>\n",
       "    <tr>\n",
       "      <th>1</th>\n",
       "      <td>г. Кисловодск ул Тельмана 26</td>\n",
       "      <td>1200.0</td>\n",
       "      <td>1.0</td>\n",
       "      <td>квартиры на сутки</td>\n",
       "      <td>37.0</td>\n",
       "      <td>3.0</td>\n",
       "      <td>5.0</td>\n",
       "      <td>775.0</td>\n",
       "      <td>NaN</td>\n",
       "      <td>NaN</td>\n",
       "      <td>...</td>\n",
       "      <td>NaN</td>\n",
       "      <td>NaN</td>\n",
       "      <td>NaN</td>\n",
       "      <td>NaN</td>\n",
       "      <td>NaN</td>\n",
       "      <td>NaN</td>\n",
       "      <td>NaN</td>\n",
       "      <td>NaN</td>\n",
       "      <td>NaN</td>\n",
       "      <td>https://stavropol.move.ru/objects/sdaetsya_1-k...</td>\n",
       "    </tr>\n",
       "    <tr>\n",
       "      <th>2</th>\n",
       "      <td>г. Санкт-Петербург, пр-кт. Российский, Дом 3 (...</td>\n",
       "      <td>1500.0</td>\n",
       "      <td>1.0</td>\n",
       "      <td>квартиры на сутки</td>\n",
       "      <td>43.0</td>\n",
       "      <td>3.0</td>\n",
       "      <td>12.0</td>\n",
       "      <td>529.0</td>\n",
       "      <td>NaN</td>\n",
       "      <td>NaN</td>\n",
       "      <td>...</td>\n",
       "      <td>NaN</td>\n",
       "      <td>NaN</td>\n",
       "      <td>NaN</td>\n",
       "      <td>NaN</td>\n",
       "      <td>NaN</td>\n",
       "      <td>NaN</td>\n",
       "      <td>NaN</td>\n",
       "      <td>NaN</td>\n",
       "      <td>NaN</td>\n",
       "      <td>https://spb.move.ru/objects/sdaetsya_1-komnatn...</td>\n",
       "    </tr>\n",
       "    <tr>\n",
       "      <th>3</th>\n",
       "      <td>Новосибирский р-н ст. Иня-Восточная Танковая у...</td>\n",
       "      <td>1600.0</td>\n",
       "      <td>1.0</td>\n",
       "      <td>квартиры на сутки</td>\n",
       "      <td>47.0</td>\n",
       "      <td>22.0</td>\n",
       "      <td>25.0</td>\n",
       "      <td>3000.0</td>\n",
       "      <td>NaN</td>\n",
       "      <td>NaN</td>\n",
       "      <td>...</td>\n",
       "      <td>NaN</td>\n",
       "      <td>NaN</td>\n",
       "      <td>NaN</td>\n",
       "      <td>NaN</td>\n",
       "      <td>NaN</td>\n",
       "      <td>NaN</td>\n",
       "      <td>NaN</td>\n",
       "      <td>NaN</td>\n",
       "      <td>NaN</td>\n",
       "      <td>https://novosibirsk.move.ru/objects/sdaetsya_1...</td>\n",
       "    </tr>\n",
       "    <tr>\n",
       "      <th>4</th>\n",
       "      <td>NaN</td>\n",
       "      <td>1000.0</td>\n",
       "      <td>1.0</td>\n",
       "      <td>квартиры на сутки</td>\n",
       "      <td>34.0</td>\n",
       "      <td>6.0</td>\n",
       "      <td>9.0</td>\n",
       "      <td>65000.0</td>\n",
       "      <td>NaN</td>\n",
       "      <td>NaN</td>\n",
       "      <td>...</td>\n",
       "      <td>NaN</td>\n",
       "      <td>NaN</td>\n",
       "      <td>NaN</td>\n",
       "      <td>NaN</td>\n",
       "      <td>NaN</td>\n",
       "      <td>NaN</td>\n",
       "      <td>NaN</td>\n",
       "      <td>NaN</td>\n",
       "      <td>NaN</td>\n",
       "      <td>https://samara.move.ru/objects/sdaetsya_1-komn...</td>\n",
       "    </tr>\n",
       "  </tbody>\n",
       "</table>\n",
       "<p>5 rows × 32 columns</p>\n",
       "</div>"
      ],
      "text/plain": [
       "                                             address   price  rooms  \\\n",
       "0                  г. Казань Гвардейская улица 48/2    800.0    1.0   \n",
       "1                      г. Кисловодск ул Тельмана 26   1200.0    1.0   \n",
       "2  г. Санкт-Петербург, пр-кт. Российский, Дом 3 (...  1500.0    1.0   \n",
       "3  Новосибирский р-н ст. Иня-Восточная Танковая у...  1600.0    1.0   \n",
       "4                                                NaN  1000.0    1.0   \n",
       "\n",
       "                type  square  floor  max_floor  nearest repair  living_square  \\\n",
       "0             студия    25.0    2.0        5.0   5000.0    NaN            NaN   \n",
       "1  квартиры на сутки    37.0    3.0        5.0    775.0    NaN            NaN   \n",
       "2  квартиры на сутки    43.0    3.0       12.0    529.0    NaN            NaN   \n",
       "3  квартиры на сутки    47.0   22.0       25.0   3000.0    NaN            NaN   \n",
       "4  квартиры на сутки    34.0    6.0        9.0  65000.0    NaN            NaN   \n",
       "\n",
       "                         ...                          washer fridge children  \\\n",
       "0                        ...                             NaN    NaN      NaN   \n",
       "1                        ...                             NaN    NaN      NaN   \n",
       "2                        ...                             NaN    NaN      NaN   \n",
       "3                        ...                             NaN    NaN      NaN   \n",
       "4                        ...                             NaN    NaN      NaN   \n",
       "\n",
       "  parking phone television pool billiards sauna  \\\n",
       "0     NaN   NaN        NaN  NaN       NaN   NaN   \n",
       "1     NaN   NaN        NaN  NaN       NaN   NaN   \n",
       "2     NaN   NaN        NaN  NaN       NaN   NaN   \n",
       "3     NaN   NaN        NaN  NaN       NaN   NaN   \n",
       "4     NaN   NaN        NaN  NaN       NaN   NaN   \n",
       "\n",
       "                                                 url  \n",
       "0  https://tatarstan.move.ru/objects/sdaetsya_1-k...  \n",
       "1  https://stavropol.move.ru/objects/sdaetsya_1-k...  \n",
       "2  https://spb.move.ru/objects/sdaetsya_1-komnatn...  \n",
       "3  https://novosibirsk.move.ru/objects/sdaetsya_1...  \n",
       "4  https://samara.move.ru/objects/sdaetsya_1-komn...  \n",
       "\n",
       "[5 rows x 32 columns]"
      ]
     },
     "execution_count": 4,
     "metadata": {},
     "output_type": "execute_result"
    }
   ],
   "source": [
    "df = pd.read_csv('raw_data.csv', index_col=0)\n",
    "df.head()"
   ]
  },
  {
   "cell_type": "code",
   "execution_count": 5,
   "metadata": {},
   "outputs": [],
   "source": [
    "df.index = np.arange(df.shape[0], dtype='int')"
   ]
  },
  {
   "cell_type": "code",
   "execution_count": 6,
   "metadata": {},
   "outputs": [
    {
     "data": {
      "text/plain": [
       "(92128, 32)"
      ]
     },
     "execution_count": 6,
     "metadata": {},
     "output_type": "execute_result"
    }
   ],
   "source": [
    "df.shape"
   ]
  },
  {
   "cell_type": "code",
   "execution_count": 7,
   "metadata": {},
   "outputs": [],
   "source": [
    "df.drop_duplicates(inplace=True)"
   ]
  },
  {
   "cell_type": "code",
   "execution_count": 8,
   "metadata": {},
   "outputs": [
    {
     "name": "stdout",
     "output_type": "stream",
     "text": [
      "<class 'pandas.core.frame.DataFrame'>\n",
      "Int64Index: 68535 entries, 0 to 92102\n",
      "Data columns (total 32 columns):\n",
      "address              52331 non-null object\n",
      "price                68535 non-null float64\n",
      "rooms                66667 non-null float64\n",
      "type                 68012 non-null object\n",
      "square               68377 non-null float64\n",
      "floor                65865 non-null float64\n",
      "max_floor            65827 non-null float64\n",
      "nearest              68401 non-null float64\n",
      "repair               3707 non-null object\n",
      "living_square        3668 non-null float64\n",
      "square_kitchen       3694 non-null float64\n",
      "type_of_rooms        3105 non-null object\n",
      "type_of_balcony      3149 non-null object\n",
      "type_of_bath         4012 non-null object\n",
      "floor_covering       3595 non-null object\n",
      "view_window          3606 non-null object\n",
      "internet             4429 non-null object\n",
      "security             814 non-null object\n",
      "kitchen              2403 non-null object\n",
      "free_layout          1381 non-null object\n",
      "furniture            4437 non-null object\n",
      "furniture_kitchen    4092 non-null object\n",
      "washer               4317 non-null object\n",
      "fridge               4589 non-null object\n",
      "children             3058 non-null object\n",
      "parking              3181 non-null object\n",
      "phone                534 non-null object\n",
      "television           4560 non-null object\n",
      "pool                 755 non-null object\n",
      "billiards            634 non-null object\n",
      "sauna                1673 non-null object\n",
      "url                  68535 non-null object\n",
      "dtypes: float64(8), object(24)\n",
      "memory usage: 17.3+ MB\n",
      "None\n"
     ]
    }
   ],
   "source": [
    "print(df.info())"
   ]
  },
  {
   "cell_type": "code",
   "execution_count": 9,
   "metadata": {},
   "outputs": [
    {
     "data": {
      "text/plain": [
       "count      83.000000\n",
       "mean      825.722892\n",
       "std       910.214760\n",
       "min         4.000000\n",
       "25%       242.500000\n",
       "50%       503.000000\n",
       "75%      1114.000000\n",
       "max      4598.000000\n",
       "Name: region, dtype: float64"
      ]
     },
     "execution_count": 9,
     "metadata": {},
     "output_type": "execute_result"
    }
   ],
   "source": [
    "# добавим столбец с регионом, в котором расположена квартира\n",
    "df['region'] = df['url'].map(lambda s: s[8: s.find('.')])\n",
    "df['region'] = df['region'].replace('move','msk')\n",
    "df['region'].value_counts().describe()"
   ]
  },
  {
   "cell_type": "code",
   "execution_count": 10,
   "metadata": {},
   "outputs": [],
   "source": [
    "#удалим регионы, в которых меньше 100 объявлений\n",
    "counts = df['region'].value_counts()\n",
    "drop_regions = counts[counts < 100].index.values\n",
    "df['region'] = df['region'].replace(drop_regions, 'drop_me')\n",
    "df = df[df.region != 'drop_me']"
   ]
  },
  {
   "cell_type": "code",
   "execution_count": 11,
   "metadata": {},
   "outputs": [],
   "source": [
    "# стобцы,в которых много пропусков\n",
    "df.drop(['living_square', 'square_kitchen',\n",
    "         'type_of_rooms', 'type_of_balcony', 'type_of_bath',\n",
    "         'floor_covering', 'view_window'], axis=1, inplace=True)"
   ]
  },
  {
   "cell_type": "code",
   "execution_count": 12,
   "metadata": {},
   "outputs": [],
   "source": [
    "df['is_repair'] = df['repair'].isnull().astype('int')\n",
    "df.drop('repair', axis=1, inplace=True)"
   ]
  },
  {
   "cell_type": "code",
   "execution_count": 13,
   "metadata": {},
   "outputs": [],
   "source": [
    "# кухня и телефон скорее всего есть везде, просто это не указывают\n",
    "df.drop(['kitchen', 'phone'], axis=1, inplace=True)"
   ]
  },
  {
   "cell_type": "code",
   "execution_count": 14,
   "metadata": {},
   "outputs": [],
   "source": [
    "# если какое-то \"удобство\" не описано, значит его нет\n",
    "df.loc[:, 'internet': 'url'] = df.loc[:, 'internet': 'url'].fillna(0)\n",
    "df.loc[:, 'internet': 'url'] = df.loc[:, 'internet': 'url'].replace('да', 1)"
   ]
  },
  {
   "cell_type": "code",
   "execution_count": 15,
   "metadata": {},
   "outputs": [
    {
     "data": {
      "text/plain": [
       "count    6.808900e+04\n",
       "mean     2.576359e+03\n",
       "std      7.019009e+04\n",
       "min      1.000000e+00\n",
       "25%      1.000000e+03\n",
       "50%      1.500000e+03\n",
       "75%      2.000000e+03\n",
       "max      1.500200e+07\n",
       "Name: price, dtype: float64"
      ]
     },
     "execution_count": 15,
     "metadata": {},
     "output_type": "execute_result"
    }
   ],
   "source": [
    "df.price.describe()"
   ]
  },
  {
   "cell_type": "code",
   "execution_count": 16,
   "metadata": {},
   "outputs": [],
   "source": [
    "# 1 р/сут и 15 млн./сут хм...\n",
    "df = df[(df.price >= 200) & (df.price <= 5000)]"
   ]
  },
  {
   "cell_type": "code",
   "execution_count": 17,
   "metadata": {},
   "outputs": [
    {
     "data": {
      "text/plain": [
       "count    64947.000000\n",
       "mean        46.068117\n",
       "std         27.625131\n",
       "min          5.000000\n",
       "25%         35.000000\n",
       "50%         41.000000\n",
       "75%         50.000000\n",
       "max       2000.000000\n",
       "Name: square, dtype: float64"
      ]
     },
     "execution_count": 17,
     "metadata": {},
     "output_type": "execute_result"
    }
   ],
   "source": [
    "df.square.describe()"
   ]
  },
  {
   "cell_type": "code",
   "execution_count": 18,
   "metadata": {},
   "outputs": [],
   "source": [
    "df = df[df.square < 400]"
   ]
  },
  {
   "cell_type": "code",
   "execution_count": 19,
   "metadata": {},
   "outputs": [],
   "source": [
    "df = df[df.floor <= df.max_floor]"
   ]
  },
  {
   "cell_type": "code",
   "execution_count": 20,
   "metadata": {},
   "outputs": [],
   "source": [
    "# Указано ли расстояние до ближайшего метро / центра города\n",
    "df['exist_nearest'] = df['nearest'].isnull().astype('int')"
   ]
  },
  {
   "cell_type": "code",
   "execution_count": 21,
   "metadata": {},
   "outputs": [
    {
     "data": {
      "text/plain": [
       "1.0    74\n",
       "Name: rooms, dtype: int64"
      ]
     },
     "execution_count": 21,
     "metadata": {},
     "output_type": "execute_result"
    }
   ],
   "source": [
    "df.groupby('region')['rooms'].agg(lambda x: np.int(np.mean(x))).value_counts()"
   ]
  },
  {
   "cell_type": "code",
   "execution_count": 22,
   "metadata": {},
   "outputs": [],
   "source": [
    "# в среднем в каждом регионе предлагают однокомнатные квартиры\n",
    "df['rooms'] = df['rooms'].fillna(1)"
   ]
  },
  {
   "cell_type": "code",
   "execution_count": 23,
   "metadata": {},
   "outputs": [],
   "source": [
    "# заполним пропуске средним значением по столбцу в этом регионе\n",
    "df['square'] = df.groupby('region')['square'].apply(lambda x: x.fillna(x.mean()))"
   ]
  },
  {
   "cell_type": "code",
   "execution_count": 24,
   "metadata": {},
   "outputs": [],
   "source": [
    "df['floor'] = df.groupby('region')['floor'].apply(lambda x: x.fillna(x.mean()))"
   ]
  },
  {
   "cell_type": "code",
   "execution_count": 25,
   "metadata": {},
   "outputs": [],
   "source": [
    "df['max_floor'] = df.groupby('region')['max_floor'].apply(lambda x: x.fillna(x.mean()))"
   ]
  },
  {
   "cell_type": "code",
   "execution_count": 26,
   "metadata": {},
   "outputs": [
    {
     "data": {
      "image/png": "[encoded data removed]",
      "text/plain": [
       "<Figure size 720x720 with 1 Axes>"
      ]
     },
     "metadata": {
      "needs_background": "light"
     },
     "output_type": "display_data"
    }
   ],
   "source": [
    "# Посмотрим на распределение целевой переменной в итоговом датасете\n",
    "sb.distplot(df.price)\n",
    "plt.show()"
   ]
  },
  {
   "cell_type": "code",
   "execution_count": 27,
   "metadata": {},
   "outputs": [
    {
     "data": {
      "image/png": "[encoded data removed]",
      "text/plain": [
       "<Figure size 720x720 with 1 Axes>"
      ]
     },
     "metadata": {
      "needs_background": "light"
     },
     "output_type": "display_data"
    }
   ],
   "source": [
    "# И на среднюю цену по регионам\n",
    "sb.distplot(df.groupby('region')['price'].mean())\n",
    "plt.show()"
   ]
  },
  {
   "cell_type": "code",
   "execution_count": 28,
   "metadata": {},
   "outputs": [
    {
     "data": {
      "text/plain": [
       "region\n",
       "msk    2755.274547\n",
       "Name: price, dtype: float64"
      ]
     },
     "execution_count": 28,
     "metadata": {},
     "output_type": "execute_result"
    }
   ],
   "source": [
    "mean = df.groupby('region')['price'].mean()\n",
    "mean[mean > 2500]"
   ]
  },
  {
   "cell_type": "code",
   "execution_count": 29,
   "metadata": {},
   "outputs": [
    {
     "data": {
      "text/plain": [
       "region\n",
       "hmao           1937.101720\n",
       "kamchatka      2317.734568\n",
       "saha           2227.188940\n",
       "salehard       2298.489474\n",
       "spb            2024.044979\n",
       "vladivostok    2093.284672\n",
       "Name: price, dtype: float64"
      ]
     },
     "execution_count": 29,
     "metadata": {},
     "output_type": "execute_result"
    }
   ],
   "source": [
    "mean[(mean < 2500) & (mean > 1900)]"
   ]
  },
  {
   "cell_type": "markdown",
   "metadata": {},
   "source": [
    "Средняя цена на аренду в Москве самая высокая. \n",
    "\n",
    "В Питере, Владивостоке, Салехарде, Сахе, Камчатке и Ханты-Мансийске выше, чем в основной массе регионов"
   ]
  },
  {
   "cell_type": "code",
   "execution_count": 30,
   "metadata": {},
   "outputs": [
    {
     "data": {
      "text/plain": [
       "(63768, 25)"
      ]
     },
     "execution_count": 30,
     "metadata": {},
     "output_type": "execute_result"
    }
   ],
   "source": [
    "df.shape"
   ]
  },
  {
   "cell_type": "code",
   "execution_count": 31,
   "metadata": {},
   "outputs": [],
   "source": [
    "df.to_csv('data.csv')"
   ]
  }
 ],
 "metadata": {
  "kernelspec": {
   "display_name": "Python 3",
   "language": "python",
   "name": "python3"
  },
  "language_info": {
   "codemirror_mode": {
    "name": "ipython",
    "version": 3
   },
   "file_extension": ".py",
   "mimetype": "text/x-python",
   "name": "python",
   "nbconvert_exporter": "python",
   "pygments_lexer": "ipython3",
   "version": "3.7.0"
  }
 },
 "nbformat": 4,
 "nbformat_minor": 2
}
